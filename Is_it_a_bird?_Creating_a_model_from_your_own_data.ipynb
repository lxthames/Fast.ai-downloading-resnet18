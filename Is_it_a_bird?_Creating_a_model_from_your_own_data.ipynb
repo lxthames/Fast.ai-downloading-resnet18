{
  "metadata": {
    "kernelspec": {
      "language": "python",
      "display_name": "Python 3",
      "name": "python3"
    },
    "language_info": {
      "name": "python",
      "version": "3.10.14",
      "mimetype": "text/x-python",
      "codemirror_mode": {
        "name": "ipython",
        "version": 3
      },
      "pygments_lexer": "ipython3",
      "nbconvert_exporter": "python",
      "file_extension": ".py"
    },
    "kaggle": {
      "accelerator": "gpu",
      "dataSources": [],
      "isInternetEnabled": true,
      "language": "python",
      "sourceType": "notebook",
      "isGpuEnabled": true
    },
    "colab": {
      "name": "Is it a bird? Creating a model from your own data",
      "provenance": [],
      "include_colab_link": true
    }
  },
  "nbformat_minor": 0,
  "nbformat": 4,
  "cells": [
    {
      "cell_type": "markdown",
      "metadata": {
        "id": "view-in-github",
        "colab_type": "text"
      },
      "source": [
        "<a href=\"https://colab.research.google.com/github/lxthames/Fast.ai-downloading-resnet18/blob/main/Is_it_a_bird%3F_Creating_a_model_from_your_own_data.ipynb\" target=\"_parent\"><img src=\"https://colab.research.google.com/assets/colab-badge.svg\" alt=\"Open In Colab\"/></a>"
      ]
    },
    {
      "cell_type": "markdown",
      "source": [
        "## Is it a bird?"
      ],
      "metadata": {
        "id": "-Jn5hatMAV1z"
      }
    },
    {
      "cell_type": "code",
      "source": [
        "#NB: Kaggle requires phone verification to use the internet or a GPU. If you haven't done that yet, the cell below will fail\n",
        "#    This code is only here to check that your internet is enabled. It doesn't do anything else.\n",
        "#    Here's a help thread on getting your phone number verified: https://www.kaggle.com/product-feedback/135367\n",
        "\n",
        "import socket,warnings\n",
        "try:\n",
        "    socket.setdefaulttimeout(1)\n",
        "    socket.socket(socket.AF_INET, socket.SOCK_STREAM).connect(('1.1.1.1', 53))\n",
        "except socket.error as ex: raise Exception(\"STOP: No internet. Click '>|' in top right and set 'Internet' switch to on\")"
      ],
      "metadata": {
        "execution": {
          "iopub.status.busy": "2024-11-17T04:07:18.002907Z",
          "iopub.execute_input": "2024-11-17T04:07:18.003271Z",
          "iopub.status.idle": "2024-11-17T04:07:18.024832Z",
          "shell.execute_reply.started": "2024-11-17T04:07:18.003233Z",
          "shell.execute_reply": "2024-11-17T04:07:18.023704Z"
        },
        "trusted": true,
        "id": "qSbZWB4uAV14"
      },
      "outputs": [],
      "execution_count": null
    },
    {
      "cell_type": "code",
      "source": [
        "# It's a good idea to ensure you're running the latest version of any libraries you need.\n",
        "# `!pip install -Uqq <libraries>` upgrades to the latest version of <libraries>\n",
        "# NB: You can safely ignore any warnings or errors pip spits out about running as root or incompatibilities\n",
        "import os\n",
        "iskaggle = os.environ.get('KAGGLE_KERNEL_RUN_TYPE', '')\n",
        "\n",
        "if iskaggle:\n",
        "    !pip install -Uqq fastai 'duckduckgo_search>=6.2'"
      ],
      "metadata": {
        "_kg_hide-input": true,
        "_kg_hide-output": true,
        "execution": {
          "iopub.status.busy": "2024-11-17T04:07:49.576751Z",
          "iopub.execute_input": "2024-11-17T04:07:49.577604Z",
          "iopub.status.idle": "2024-11-17T04:08:04.79098Z",
          "shell.execute_reply.started": "2024-11-17T04:07:49.57755Z",
          "shell.execute_reply": "2024-11-17T04:08:04.789764Z"
        },
        "trusted": true,
        "id": "1kNsd4QvAV16"
      },
      "outputs": [],
      "execution_count": null
    },
    {
      "cell_type": "markdown",
      "source": [
        "In 2015 the idea of creating a computer system that could recognise birds was considered so outrageously challenging that it was the basis of [this XKCD joke](https://xkcd.com/1425/):"
      ],
      "metadata": {
        "id": "IOnRLEluAV16"
      }
    },
    {
      "cell_type": "markdown",
      "source": [
        "![image.png](attachment:a0483178-c30e-4fdd-b2c2-349e130ab260.png)"
      ],
      "metadata": {
        "id": "YcCuA7y6AV17"
      }
    },
    {
      "cell_type": "markdown",
      "source": [
        "But today, we can do exactly that, in just a few minutes, using entirely free resources!\n",
        "\n",
        "The basic steps we'll take are:\n",
        "\n",
        "1. Use DuckDuckGo to search for images of \"bird photos\"\n",
        "1. Use DuckDuckGo to search for images of \"forest photos\"\n",
        "1. Fine-tune a pretrained neural network to recognise these two groups\n",
        "1. Try running this model on a picture of a bird and see if it works."
      ],
      "metadata": {
        "id": "C_dlpuLeAV17"
      }
    },
    {
      "cell_type": "markdown",
      "source": [
        "## Step 1: Download images of birds and non-birds"
      ],
      "metadata": {
        "id": "NJBjCVR8AV17"
      }
    },
    {
      "cell_type": "code",
      "source": [
        "from duckduckgo_search import DDGS #DuckDuckGo has changed the api so we need to update\n",
        "from fastcore.all import *\n",
        "\n",
        "def search_images(keywords, max_images=200):\n",
        "    return L(DDGS().images(keywords, max_results=max_images)).itemgot('image')\n",
        "import time, json"
      ],
      "metadata": {
        "_kg_hide-input": true,
        "execution": {
          "iopub.status.busy": "2024-11-17T04:16:49.266072Z",
          "iopub.execute_input": "2024-11-17T04:16:49.267263Z",
          "iopub.status.idle": "2024-11-17T04:16:49.362427Z",
          "shell.execute_reply.started": "2024-11-17T04:16:49.267215Z",
          "shell.execute_reply": "2024-11-17T04:16:49.361609Z"
        },
        "trusted": true,
        "id": "1IvnlMQIAV18"
      },
      "outputs": [],
      "execution_count": null
    },
    {
      "cell_type": "markdown",
      "source": [
        "Let's start by searching for a bird photo and seeing what kind of result we get. We'll start by getting URLs from a search:"
      ],
      "metadata": {
        "id": "OtAA2rxsAV18"
      }
    },
    {
      "cell_type": "code",
      "source": [
        "#NB: `search_images` depends on duckduckgo.com, which doesn't always return correct responses.\n",
        "#    If you get a JSON error, just try running it again (it may take a couple of tries).\n",
        "urls = search_images('bird photos', max_images=1)\n",
        "#print(urls)\n",
        "urls[0]"
      ],
      "metadata": {
        "execution": {
          "iopub.status.busy": "2024-11-17T04:21:29.644384Z",
          "iopub.execute_input": "2024-11-17T04:21:29.645227Z",
          "iopub.status.idle": "2024-11-17T04:21:30.193101Z",
          "shell.execute_reply.started": "2024-11-17T04:21:29.645173Z",
          "shell.execute_reply": "2024-11-17T04:21:30.192191Z"
        },
        "trusted": true,
        "id": "FTAuajfQAV19"
      },
      "outputs": [],
      "execution_count": null
    },
    {
      "cell_type": "markdown",
      "source": [
        "...and then download a URL and take a look at it:"
      ],
      "metadata": {
        "id": "iXdwrMZpAV19"
      }
    },
    {
      "cell_type": "code",
      "source": [
        "from fastdownload import download_url\n",
        "dest = 'bird.jpg'\n",
        "download_url(urls[0], dest, show_progress=False)\n",
        "\n",
        "from fastai.vision.all import *\n",
        "im = Image.open(dest)\n",
        "im.to_thumb(256,256)"
      ],
      "metadata": {
        "execution": {
          "iopub.status.busy": "2024-11-17T04:22:48.464931Z",
          "iopub.execute_input": "2024-11-17T04:22:48.46535Z",
          "iopub.status.idle": "2024-11-17T04:22:55.613628Z",
          "shell.execute_reply.started": "2024-11-17T04:22:48.465308Z",
          "shell.execute_reply": "2024-11-17T04:22:55.612667Z"
        },
        "trusted": true,
        "id": "olK6bTJOAV19"
      },
      "outputs": [],
      "execution_count": null
    },
    {
      "cell_type": "markdown",
      "source": [
        "Now let's do the same with \"forest photos\":"
      ],
      "metadata": {
        "id": "hhIL5Xt8AV1-"
      }
    },
    {
      "cell_type": "code",
      "source": [
        "download_url(search_images('forest photo', max_images=1)[0], 'forest.jpg', show_progress=False)\n",
        "Image.open('forest.jpg').to_thumb(256,256)"
      ],
      "metadata": {
        "execution": {
          "iopub.status.busy": "2024-11-17T04:25:09.8363Z",
          "iopub.execute_input": "2024-11-17T04:25:09.836688Z",
          "iopub.status.idle": "2024-11-17T04:25:10.963521Z",
          "shell.execute_reply.started": "2024-11-17T04:25:09.836653Z",
          "shell.execute_reply": "2024-11-17T04:25:10.962584Z"
        },
        "trusted": true,
        "id": "NLyQu-PBAV1-"
      },
      "outputs": [],
      "execution_count": null
    },
    {
      "cell_type": "markdown",
      "source": [
        "Our searches seem to be giving reasonable results, so let's grab a few examples of each of \"bird\" and \"forest\" photos, and save each group of photos to a different folder:"
      ],
      "metadata": {
        "id": "1cFtMNJbAV1-"
      }
    },
    {
      "cell_type": "code",
      "source": [
        "searches = 'forest','bird'\n",
        "path = Path('bird_or_not')\n",
        "\n",
        "for o in searches:\n",
        "    dest = (path/o)\n",
        "    dest.mkdir(exist_ok=True, parents=True)\n",
        "    download_images(dest, urls=search_images(f'{o} photo'))\n",
        "    time.sleep(5)\n",
        "    resize_images(path/o, max_size=400, dest=path/o)"
      ],
      "metadata": {
        "execution": {
          "iopub.status.busy": "2024-11-17T04:25:54.233273Z",
          "iopub.execute_input": "2024-11-17T04:25:54.234328Z",
          "iopub.status.idle": "2024-11-17T04:26:55.468347Z",
          "shell.execute_reply.started": "2024-11-17T04:25:54.234257Z",
          "shell.execute_reply": "2024-11-17T04:26:55.467046Z"
        },
        "trusted": true,
        "id": "GnlSKbfjAV1-"
      },
      "outputs": [],
      "execution_count": null
    },
    {
      "cell_type": "markdown",
      "source": [
        "## Step 2: Train our model"
      ],
      "metadata": {
        "id": "gY-sOy70AV1-"
      }
    },
    {
      "cell_type": "markdown",
      "source": [
        "Some photos might not download correctly which could cause our model training to fail, so we'll remove them:"
      ],
      "metadata": {
        "id": "LdgyakVCAV1_"
      }
    },
    {
      "cell_type": "code",
      "source": [
        "failed = verify_images(get_image_files(path))\n",
        "failed.map(Path.unlink)\n",
        "len(failed)"
      ],
      "metadata": {
        "execution": {
          "iopub.status.busy": "2024-11-17T04:28:20.298509Z",
          "iopub.execute_input": "2024-11-17T04:28:20.298939Z",
          "iopub.status.idle": "2024-11-17T04:28:21.028159Z",
          "shell.execute_reply.started": "2024-11-17T04:28:20.298897Z",
          "shell.execute_reply": "2024-11-17T04:28:21.027078Z"
        },
        "trusted": true,
        "id": "KT6vPolBAV1_"
      },
      "outputs": [],
      "execution_count": null
    },
    {
      "cell_type": "markdown",
      "source": [
        "To train a model, we'll need `DataLoaders`, which is an object that contains a *training set* (the images used to create a model) and a *validation set* (the images used to check the accuracy of a model -- not used during training). In `fastai` we can create that easily using a `DataBlock`, and view sample images from it:"
      ],
      "metadata": {
        "id": "ByqVz8mtAV1_"
      }
    },
    {
      "cell_type": "code",
      "source": [
        "dls = DataBlock(\n",
        "    blocks=(ImageBlock, CategoryBlock),\n",
        "    get_items=get_image_files,\n",
        "    splitter=RandomSplitter(valid_pct=0.2, seed=42),\n",
        "    get_y=parent_label,\n",
        "    item_tfms=[Resize(192, method='squish')]\n",
        ").dataloaders(path, bs=32)\n",
        "\n",
        "dls.show_batch(max_n=6)"
      ],
      "metadata": {
        "execution": {
          "iopub.status.busy": "2024-11-17T04:35:13.816565Z",
          "iopub.execute_input": "2024-11-17T04:35:13.816954Z",
          "iopub.status.idle": "2024-11-17T04:35:15.12806Z",
          "shell.execute_reply.started": "2024-11-17T04:35:13.816917Z",
          "shell.execute_reply": "2024-11-17T04:35:15.127101Z"
        },
        "trusted": true,
        "id": "D5UGpwhjAV1_"
      },
      "outputs": [],
      "execution_count": null
    },
    {
      "cell_type": "markdown",
      "source": [
        "Here what each of the `DataBlock` parameters means:\n",
        "\n",
        "    blocks=(ImageBlock, CategoryBlock),\n",
        "\n",
        "The inputs to our model are images, and the outputs are categories (in this case, \"bird\" or \"forest\").\n",
        "\n",
        "    get_items=get_image_files,\n",
        "\n",
        "To find all the inputs to our model, run the `get_image_files` function (which returns a list of all image files in a path).\n",
        "\n",
        "    splitter=RandomSplitter(valid_pct=0.2, seed=42),\n",
        "\n",
        "Split the data into training and validation sets randomly, using 20% of the data for the validation set.\n",
        "\n",
        "    get_y=parent_label,\n",
        "\n",
        "The labels (`y` values) is the name of the `parent` of each file (i.e. the name of the folder they're in, which will be *bird* or *forest*).\n",
        "\n",
        "    item_tfms=[Resize(192, method='squish')]\n",
        "\n",
        "Before training, resize each image to 192x192 pixels by \"squishing\" it (as opposed to cropping it)."
      ],
      "metadata": {
        "id": "Q-F7TV4PAV1_"
      }
    },
    {
      "cell_type": "markdown",
      "source": [
        "Now we're ready to train our model. The fastest widely used computer vision model is `resnet18`. You can train this in a few minutes, even on a CPU! (On a GPU, it generally takes under 10 seconds...)\n",
        "\n",
        "`fastai` comes with a helpful `fine_tune()` method which automatically uses best practices for fine tuning a pre-trained model, so we'll use that."
      ],
      "metadata": {
        "id": "jX-CI4k0AV1_"
      }
    },
    {
      "cell_type": "code",
      "source": [
        "learn = vision_learner(dls, resnet18, metrics=error_rate)\n",
        "learn.fine_tune(3)"
      ],
      "metadata": {
        "execution": {
          "iopub.status.busy": "2024-11-17T04:35:19.693167Z",
          "iopub.execute_input": "2024-11-17T04:35:19.694145Z",
          "iopub.status.idle": "2024-11-17T04:35:26.957988Z",
          "shell.execute_reply.started": "2024-11-17T04:35:19.694103Z",
          "shell.execute_reply": "2024-11-17T04:35:26.956863Z"
        },
        "trusted": true,
        "id": "xYob9efwAV2A"
      },
      "outputs": [],
      "execution_count": null
    },
    {
      "cell_type": "markdown",
      "source": [
        "Generally when I run this I see 100% accuracy on the validation set (although it might vary a bit from run to run).\n",
        "\n",
        "\"Fine-tuning\" a model means that we're starting with a model someone else has trained using some other dataset (called the *pretrained model*), and adjusting the weights a little bit so that the model learns to recognise your particular dataset. In this case, the pretrained model was trained to recognise photos in *imagenet*, and widely-used computer vision dataset with images covering 1000 categories) For details on fine-tuning and why it's important, check out the [free fast.ai course](https://course.fast.ai/)."
      ],
      "metadata": {
        "id": "MM02jftUAV2A"
      }
    },
    {
      "cell_type": "markdown",
      "source": [
        "## Step 3: Use our model (and build your own!)"
      ],
      "metadata": {
        "id": "_4LG2LjiAV2A"
      }
    },
    {
      "cell_type": "markdown",
      "source": [
        "Let's see what our model thinks about that bird we downloaded at the start:"
      ],
      "metadata": {
        "id": "gerRJAexAV2A"
      }
    },
    {
      "cell_type": "code",
      "source": [
        "is_bird,_,probs = learn.predict(PILImage.create('bird.jpg'))\n",
        "print(f\"This is a: {is_bird}.\")\n",
        "print(f\"Probability it's a bird: {probs[0]:.4f}\")"
      ],
      "metadata": {
        "execution": {
          "iopub.status.busy": "2024-11-17T04:38:31.224398Z",
          "iopub.execute_input": "2024-11-17T04:38:31.224886Z",
          "iopub.status.idle": "2024-11-17T04:38:31.401271Z",
          "shell.execute_reply.started": "2024-11-17T04:38:31.224832Z",
          "shell.execute_reply": "2024-11-17T04:38:31.400345Z"
        },
        "trusted": true,
        "id": "E3DMc5qhAV2A"
      },
      "outputs": [],
      "execution_count": null
    },
    {
      "cell_type": "markdown",
      "source": [
        "Good job, resnet18. :)\n",
        "\n",
        "So, as you see, in the space of a few years, creating computer vision classification models has gone from \"so hard it's a joke\" to \"trivially easy and free\"!\n",
        "\n",
        "It's not just in computer vision. Thanks to deep learning, computers can now do many things which seemed impossible just a few years ago, including [creating amazing artworks](https://openai.com/dall-e-2/), and [explaining jokes](https://www.datanami.com/2022/04/22/googles-massive-new-language-model-can-explain-jokes/). It's moving so fast that even experts in the field have trouble predicting how it's going to impact society in the coming years.\n",
        "\n",
        "One thing is clear -- it's important that we all do our best to understand this technology, because otherwise we'll get left behind!"
      ],
      "metadata": {
        "id": "mPoSOBZNAV2A"
      }
    },
    {
      "cell_type": "markdown",
      "source": [
        "Now it's your turn. Click \"Copy & Edit\" and try creating your own image classifier using your own image searches!\n",
        "\n",
        "If you enjoyed this, please consider clicking the \"upvote\" button in the top-right -- it's very encouraging to us notebook authors to know when people appreciate our work."
      ],
      "metadata": {
        "id": "yNVA3fMAAV2B"
      }
    },
    {
      "cell_type": "code",
      "source": [],
      "metadata": {
        "id": "ODRfEz2YAV2B"
      },
      "outputs": [],
      "execution_count": null
    }
  ]
}